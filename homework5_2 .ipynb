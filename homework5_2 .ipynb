{
 "cells": [
  {
   "cell_type": "code",
   "execution_count": 1,
   "id": "e7b8ad03-d9ce-4118-9749-13bd5a64e0b7",
   "metadata": {},
   "outputs": [],
   "source": [
    "import pandas as pd\n",
    "import numpy as np"
   ]
  },
  {
   "cell_type": "code",
   "execution_count": 2,
   "id": "cc36f1b8-4c2a-449c-a818-30375df861f6",
   "metadata": {},
   "outputs": [
    {
     "data": {
      "text/html": [
       "<div>\n",
       "<style scoped>\n",
       "    .dataframe tbody tr th:only-of-type {\n",
       "        vertical-align: middle;\n",
       "    }\n",
       "\n",
       "    .dataframe tbody tr th {\n",
       "        vertical-align: top;\n",
       "    }\n",
       "\n",
       "    .dataframe thead th {\n",
       "        text-align: right;\n",
       "    }\n",
       "</style>\n",
       "<table border=\"1\" class=\"dataframe\">\n",
       "  <thead>\n",
       "    <tr style=\"text-align: right;\">\n",
       "      <th></th>\n",
       "      <th>user_id</th>\n",
       "      <th>item_id</th>\n",
       "      <th>rating</th>\n",
       "    </tr>\n",
       "  </thead>\n",
       "  <tbody>\n",
       "    <tr>\n",
       "      <th>0</th>\n",
       "      <td>196</td>\n",
       "      <td>242</td>\n",
       "      <td>3</td>\n",
       "    </tr>\n",
       "    <tr>\n",
       "      <th>1</th>\n",
       "      <td>186</td>\n",
       "      <td>302</td>\n",
       "      <td>3</td>\n",
       "    </tr>\n",
       "    <tr>\n",
       "      <th>2</th>\n",
       "      <td>22</td>\n",
       "      <td>377</td>\n",
       "      <td>1</td>\n",
       "    </tr>\n",
       "    <tr>\n",
       "      <th>3</th>\n",
       "      <td>244</td>\n",
       "      <td>51</td>\n",
       "      <td>2</td>\n",
       "    </tr>\n",
       "    <tr>\n",
       "      <th>4</th>\n",
       "      <td>166</td>\n",
       "      <td>346</td>\n",
       "      <td>1</td>\n",
       "    </tr>\n",
       "  </tbody>\n",
       "</table>\n",
       "</div>"
      ],
      "text/plain": [
       "   user_id  item_id  rating\n",
       "0      196      242       3\n",
       "1      186      302       3\n",
       "2       22      377       1\n",
       "3      244       51       2\n",
       "4      166      346       1"
      ]
     },
     "execution_count": 2,
     "metadata": {},
     "output_type": "execute_result"
    }
   ],
   "source": [
    "column_names = ['user_id', 'item_id', 'rating', 'timestamp']\n",
    "df = pd.read_csv(r'C:\\Users\\33382\\Desktop\\计算机\\外教\\CS422\\作业\\homework_5\\ml-100k\\ml-100k\\u.data', sep='\\t', names=column_names)\n",
    "df = df.drop(columns='timestamp')\n",
    "\n",
    "df.head()"
   ]
  },
  {
   "cell_type": "code",
   "execution_count": 3,
   "id": "74115603-9e6d-40cc-94ed-6cb8668c5f57",
   "metadata": {},
   "outputs": [],
   "source": [
    "rating_matrix = df.pivot(index='user_id', columns='item_id', values='rating')\n",
    "\n",
    "centered_matrix = rating_matrix.sub(rating_matrix.mean(axis=1), axis=0)\n",
    "\n",
    "user_200_profile = centered_matrix.loc[200]\n",
    "user_15_profile = centered_matrix.loc[15]\n",
    "item_95_vector = centered_matrix[95]"
   ]
  },
  {
   "cell_type": "code",
   "execution_count": 4,
   "id": "89c81e83-91f5-458b-b7f2-bbef75408a56",
   "metadata": {},
   "outputs": [],
   "source": [
    "def compute_cosine_similarity(user_profile, item_vector):\n",
    "\n",
    "    common_mask = user_profile.notna() & item_vector.notna()\n",
    "    if not common_mask.any():\n",
    "        return None  \n",
    "    \n",
    "    user_vec = user_profile[common_mask].values.astype(float)\n",
    "    item_vec = item_vector[common_mask].values.astype(float)\n",
    "    dot_product = np.dot(user_vec, item_vec)\n",
    "    norm_user = np.linalg.norm(user_vec)\n",
    "    norm_item = np.linalg.norm(item_vec)\n",
    "    \n",
    "    if norm_user * norm_item == 0:\n",
    "        return 0.0  \n",
    "    return dot_product / (norm_user * norm_item)\n",
    "\n",
    "\n",
    "def compute_euclidean_distance(user_profile, item_vector):\n",
    "    common_mask = user_profile.notna() & item_vector.notna()\n",
    "    user_vec = user_profile[common_mask].values.astype(float)\n",
    "    item_vec = item_vector[common_mask].values.astype(float)\n",
    "    squared_diff = np.sum((user_vec - item_vec) ** 2)\n",
    "    return np.sqrt(squared_diff)"
   ]
  },
  {
   "cell_type": "code",
   "execution_count": 5,
   "id": "54018e84-ffec-4d33-bcc3-09ee46ad6aab",
   "metadata": {},
   "outputs": [
    {
     "name": "stdout",
     "output_type": "stream",
     "text": [
      "\n",
      " user 200：\n",
      "  the cosine similarity: 0.09\n",
      "  the distance : 6.96\n",
      "\n",
      "\n",
      " user 15：\n",
      "  the cosine similarity: 0.13\n",
      "  the distance : 7.86\n",
      "\n"
     ]
    }
   ],
   "source": [
    "cos_200 = compute_cosine_similarity(user_200_profile, item_95_vector)\n",
    "dist_200 = compute_euclidean_distance(user_200_profile, item_95_vector)\n",
    "\n",
    "cos_15 = compute_cosine_similarity(user_15_profile, item_95_vector)\n",
    "dist_15 = compute_euclidean_distance(user_15_profile, item_95_vector)\n",
    "\n",
    "\n",
    "print(\"\\n user 200：\")\n",
    "print(f\"  the cosine similarity: {cos_200:.2f}\")\n",
    "print(f\"  the distance : {dist_200:.2f}\\n\")\n",
    "\n",
    "print(\"\\n user 15：\")\n",
    "print(f\"  the cosine similarity: {cos_15:.2f}\")\n",
    "print(f\"  the distance : {dist_15:.2f}\\n\")"
   ]
  },
  {
   "cell_type": "code",
   "execution_count": 6,
   "id": "de8989c7-7f13-4f58-a127-919bcb54c79f",
   "metadata": {},
   "outputs": [
    {
     "name": "stdout",
     "output_type": "stream",
     "text": [
      "\n",
      " the recommender system will suggest movie 95 to user 15 \n",
      "\n"
     ]
    }
   ],
   "source": [
    "if  cos_200 > cos_15 :\n",
    "    print(\"\\n the recommender system will suggest movie 95 to user 200 \\n\")\n",
    "else:\n",
    "    print(\"\\n the recommender system will suggest movie 95 to user 15 \\n\")"
   ]
  },
  {
   "cell_type": "code",
   "execution_count": null,
   "id": "350612aa-853a-4898-af93-07402479052e",
   "metadata": {},
   "outputs": [],
   "source": []
  }
 ],
 "metadata": {
  "kernelspec": {
   "display_name": "Python 3 (ipykernel)",
   "language": "python",
   "name": "python3"
  },
  "language_info": {
   "codemirror_mode": {
    "name": "ipython",
    "version": 3
   },
   "file_extension": ".py",
   "mimetype": "text/x-python",
   "name": "python",
   "nbconvert_exporter": "python",
   "pygments_lexer": "ipython3",
   "version": "3.12.1"
  }
 },
 "nbformat": 4,
 "nbformat_minor": 5
}
